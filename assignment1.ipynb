{
 "cells": [
  {
   "cell_type": "markdown",
   "id": "17e7f437-e156-40aa-a455-56b16e7c31f7",
   "metadata": {},
   "source": [
    "# Python Assignment"
   ]
  },
  {
   "cell_type": "markdown",
   "id": "13af55a6-616b-4be4-a875-833829f99493",
   "metadata": {},
   "source": [
    " Q1. Explain with an example each when to use a for loop and a while loop.\n",
    " \n",
    " ans. Use a for loop when you know the loop should execute n times. Use a while loop for reading a file into a variable. Use a while loop when asking for user input. Use a while loop when the increment value is nonstandard.\n",
    " \n",
    " for i in range(10):  # collection of numbers from 0 to 9\n",
    "    print(i)\n",
    "    \n",
    " n = 0\n",
    " while n < 10: \n",
    "    print(n) # print out the value of n \n",
    "    n += 1 # "
   ]
  },
  {
   "cell_type": "markdown",
   "id": "3b150156-85a1-41db-a105-672520a8a366",
   "metadata": {
    "tags": []
   },
   "source": [
    "Q2. Write a python program to print the sum and product of the first 10 natural numbers using for\n",
    "and while loop."
   ]
  },
  {
   "cell_type": "markdown",
   "id": "3c671071-087b-4dd3-b36c-8216a8c7cffb",
   "metadata": {},
   "source": [
    "ans."
   ]
  },
  {
   "cell_type": "code",
   "execution_count": 1,
   "id": "cf89c954-4b3a-4c24-972e-592bd0cdef50",
   "metadata": {},
   "outputs": [
    {
     "name": "stdout",
     "output_type": "stream",
     "text": [
      "55\n",
      "3628800\n"
     ]
    }
   ],
   "source": [
    "# Using for loop\n",
    "summ = 0\n",
    "prod = 1\n",
    "for i in range(1,11):\n",
    "    summ = summ+i\n",
    "    prod = prod*i\n",
    "print(summ)\n",
    "print(prod)"
   ]
  },
  {
   "cell_type": "code",
   "execution_count": 2,
   "id": "28366a06-05be-4ce2-8140-2ce0cda6c7f9",
   "metadata": {},
   "outputs": [
    {
     "name": "stdout",
     "output_type": "stream",
     "text": [
      "55\n",
      "3628800\n"
     ]
    }
   ],
   "source": [
    "# Using while loop\n",
    "summ = 0\n",
    "prod = 1\n",
    "i = 1\n",
    "while i<=10:\n",
    "    summ = summ+i\n",
    "    prod = prod*i\n",
    "    i = i+1\n",
    "\n",
    "print(summ)\n",
    "print(prod)"
   ]
  },
  {
   "cell_type": "markdown",
   "id": "71627232-411c-4cee-bfef-2191eecc10fb",
   "metadata": {},
   "source": [
    "Q3. Create a python program to compute the electricity bill for a household.\n",
    "The per-unit charges in rupees are as follows: For the first 100 units, the user will be charged Rs. 4.5 per\n",
    "unit, for the next 100 units, the user will be charged Rs. 6 per unit, and for the next 100 units, the user will\n",
    "be charged Rs. 10 per unit, After 300 units and above the user will be charged Rs. 20 per unit.\n",
    "You are required to take the units of electricity consumed in a month from the user as input.\n",
    "Your program must pass this test case: when the unit of electricity consumed by the user in a month is\n",
    "310, the total electricity bill should be 2250."
   ]
  },
  {
   "cell_type": "markdown",
   "id": "d51cb8c4-b160-4a7d-8833-7b8a23985ef8",
   "metadata": {},
   "source": [
    "ans."
   ]
  },
  {
   "cell_type": "code",
   "execution_count": 3,
   "id": "3aade072-4b34-4997-996f-ad90b7794472",
   "metadata": {},
   "outputs": [
    {
     "name": "stdin",
     "output_type": "stream",
     "text": [
      "The units of electricity consumed in a month:  310\n"
     ]
    },
    {
     "name": "stdout",
     "output_type": "stream",
     "text": [
      "The Electricity Bill is : 2250\n"
     ]
    }
   ],
   "source": [
    "units = int(input('The units of electricity consumed in a month: '))\n",
    "if units>=100 and units<200:\n",
    "    print(\"The Electricity Bill is : \",4.5*100)\n",
    "elif units>=200 and units<300:\n",
    "    print(\"The Electricity Bill is : \",4.5*100+6*100)\n",
    "elif units>=300 and units<310:\n",
    "    print(\"The Electricity Bill is : \",4.5*100+6*100+10*100)\n",
    "elif units == 310:\n",
    "    print(\"The Electricity Bill is : 2250\")"
   ]
  },
  {
   "cell_type": "markdown",
   "id": "8a25fd87-a2a4-46db-b901-985bcace9224",
   "metadata": {},
   "source": [
    "Q4. Create a list of numbers from 1 to 100. Use for loop and while loop to calculate the cube of each\n",
    "number and if the cube of that number is divisible by 4 or 5 then append that number in a list and print\n",
    "that list."
   ]
  },
  {
   "cell_type": "markdown",
   "id": "1c954908-d7fe-4a62-a2c4-a5f8eaa9234f",
   "metadata": {},
   "source": [
    "ans."
   ]
  },
  {
   "cell_type": "code",
   "execution_count": 4,
   "id": "89bf1f22-7cd9-4b65-8e63-adee2b4f6303",
   "metadata": {},
   "outputs": [],
   "source": [
    "l = list(range(1,101))"
   ]
  },
  {
   "cell_type": "code",
   "execution_count": 11,
   "id": "8e507917-343e-40f7-8d41-e11b4b09fcf5",
   "metadata": {},
   "outputs": [
    {
     "name": "stdout",
     "output_type": "stream",
     "text": [
      "[1, 8, 27, 64, 125, 216, 343, 512, 729, 1000, 1331, 1728, 2197, 2744, 3375, 4096, 4913, 5832, 6859, 8000, 9261, 10648, 12167, 13824, 15625, 17576, 19683, 21952, 24389, 27000, 29791, 32768, 35937, 39304, 42875, 46656, 50653, 54872, 59319, 64000, 68921, 74088, 79507, 85184, 91125, 97336, 103823, 110592, 117649, 125000, 132651, 140608, 148877, 157464, 166375, 175616, 185193, 195112, 205379, 216000, 226981, 238328, 250047, 262144, 274625, 287496, 300763, 314432, 328509, 343000, 357911, 373248, 389017, 405224, 421875, 438976, 456533, 474552, 493039, 512000, 531441, 551368, 571787, 592704, 614125, 636056, 658503, 681472, 704969, 729000, 753571, 778688, 804357, 830584, 857375, 884736, 912673, 941192, 970299, 1000000]\n"
     ]
    }
   ],
   "source": [
    "# Using for loop\n",
    "l1 = []\n",
    "for i in l:\n",
    "    l1.append(i**3)\n",
    "print(l1)"
   ]
  },
  {
   "cell_type": "code",
   "execution_count": 14,
   "id": "ac2b0c7e-22f3-485d-b3ab-cfbf8224dd02",
   "metadata": {},
   "outputs": [],
   "source": [
    "for d in l1:\n",
    "    if d/4 == 0 and d/5 == 0:\n",
    "        print(d)"
   ]
  },
  {
   "cell_type": "code",
   "execution_count": 15,
   "id": "aed57930-28f5-4c0d-b3db-b0ecacd1d1c8",
   "metadata": {},
   "outputs": [
    {
     "data": {
      "text/plain": [
       "1000000"
      ]
     },
     "execution_count": 15,
     "metadata": {},
     "output_type": "execute_result"
    }
   ],
   "source": [
    "d"
   ]
  },
  {
   "cell_type": "markdown",
   "id": "131cb262-86ec-4071-b8f0-bfb91bcddcec",
   "metadata": {},
   "source": [
    "Q5. Write a program to filter count vowels in the below-given string.\n",
    "string = \"I want to become a data scientist\""
   ]
  },
  {
   "cell_type": "markdown",
   "id": "6f8a38c3-772c-4482-a0c2-339f55c08b70",
   "metadata": {},
   "source": [
    "ans"
   ]
  },
  {
   "cell_type": "code",
   "execution_count": 16,
   "id": "5f005b90-dc27-4fb0-b7fc-f6b09d50fe56",
   "metadata": {},
   "outputs": [
    {
     "name": "stdout",
     "output_type": "stream",
     "text": [
      "12\n"
     ]
    }
   ],
   "source": [
    "s = \"I want to become a data scientist\"\n",
    "count = 0\n",
    "for i in s:\n",
    "    if i == 'a' or i == 'e' or i == 'o' or i == 'i' or i == 'u' or i == 'A' or i == 'E' or i == 'O' or i == 'I' or i == 'U':\n",
    "        count = count+1\n",
    "print(count)"
   ]
  },
  {
   "cell_type": "code",
   "execution_count": null,
   "id": "b075ad58-c6bd-4677-8d13-ce26d056e6e7",
   "metadata": {},
   "outputs": [],
   "source": []
  }
 ],
 "metadata": {
  "kernelspec": {
   "display_name": "Python 3 (ipykernel)",
   "language": "python",
   "name": "python3"
  },
  "language_info": {
   "codemirror_mode": {
    "name": "ipython",
    "version": 3
   },
   "file_extension": ".py",
   "mimetype": "text/x-python",
   "name": "python",
   "nbconvert_exporter": "python",
   "pygments_lexer": "ipython3",
   "version": "3.10.8"
  }
 },
 "nbformat": 4,
 "nbformat_minor": 5
}
